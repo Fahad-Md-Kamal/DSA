{
 "cells": [
  {
   "cell_type": "markdown",
   "id": "19017d96",
   "metadata": {},
   "source": [
    "# Bubble Sort"
   ]
  },
  {
   "cell_type": "code",
   "execution_count": 2,
   "id": "f8adf6f1",
   "metadata": {},
   "outputs": [],
   "source": [
    "from random import randint\n",
    "def give_a_list_to_sort(items:int = 50):\n",
    "    return [randint(0, 999) for _ in range(items)]"
   ]
  },
  {
   "cell_type": "code",
   "execution_count": null,
   "id": "d26523f5",
   "metadata": {},
   "outputs": [],
   "source": [
    "import datetime\n",
    "\n",
    "def print_sorted(func):\n",
    "    def wrapper(*args, **kwargs):\n",
    "        [print(i) for i in args]\n",
    "        \n",
    "        \n",
    "        start_time = datetime.datetime.now()\n",
    "        func(*args, **kwargs)\n",
    "        \n",
    "        print(\"finished in \", datetime.datetime.now()-start_time)\n",
    "        \n",
    "        [print(i) for i in args]\n",
    "    return wrapper\n"
   ]
  },
  {
   "cell_type": "code",
   "execution_count": null,
   "id": "f383bbdd",
   "metadata": {},
   "outputs": [],
   "source": [
    "\n",
    "def bubble_sort(sequence):\n",
    "    indexing_length = len(sequence) - 1\n",
    "    _sorted = False  \n",
    "    \n",
    "    while not _sorted:\n",
    "        _sorted = True\n",
    "        for i in range(0, indexing_length):\n",
    "            if sequence[i] > sequence[i+1]:\n",
    "                _sorted = False\n",
    "                sequence[i], sequence[i+1] = sequence[i+1], sequence[i]\n",
    "    return sequence"
   ]
  },
  {
   "cell_type": "code",
   "execution_count": null,
   "id": "109f3f4a",
   "metadata": {},
   "outputs": [],
   "source": [
    "bubble_sort(give_a_list_to_sort(50))"
   ]
  },
  {
   "cell_type": "markdown",
   "id": "1c838974",
   "metadata": {},
   "source": [
    "# Quick sort"
   ]
  },
  {
   "cell_type": "markdown",
   "id": "3a088967",
   "metadata": {},
   "source": [
    "**PSUDO Code**\n",
    "\n",
    "- If sequence has one item or no item return\n",
    "\n",
    "- Take the last item as pivot item.\n",
    "- Declare two lists, one for items_greater and the other for items_lower.\n",
    "- Iterate all the items of the given sequence\n",
    "- If item is greater than pivot append to greater_items otherwise append to lower_items\n",
    "- Recursively call the function passing items_lower at right side items_greater right side and pivot in the middle"
   ]
  },
  {
   "cell_type": "code",
   "execution_count": null,
   "id": "0bbac915",
   "metadata": {},
   "outputs": [],
   "source": [
    "def quick_sort(sequence):\n",
    "    if len(sequence) <= 1:\n",
    "        return sequence\n",
    "    \n",
    "    pivot = sequence.pop()\n",
    "    items_greater = []\n",
    "    items_lower = []\n",
    "\n",
    "    for item in sequence:\n",
    "        if item > pivot:\n",
    "            items_greater.append(item)\n",
    "        else:\n",
    "            items_lower.append(item)\n",
    "            \n",
    "    return quick_sort(items_lower) + [pivot] + quick_sort(items_greater)\n",
    "\n"
   ]
  },
  {
   "cell_type": "code",
   "execution_count": null,
   "id": "3a1fe219",
   "metadata": {},
   "outputs": [],
   "source": [
    "quick_sort(give_a_list_to_sort(20))"
   ]
  },
  {
   "cell_type": "markdown",
   "id": "a085bffe",
   "metadata": {},
   "source": [
    "# Selection Sort"
   ]
  },
  {
   "cell_type": "markdown",
   "id": "4cf12897",
   "metadata": {},
   "source": [
    " - Iterates the whole list\n",
    " - Selects index of the current iteration as the minimum_index\n",
    " - Again iterates from the next item of the parent iteration.\n",
    " - If current item is less then the current_minimum index item change current_minimum_index to this new_minimum item.\n",
    " - swap elements with current_minimum item with the initial minimum item.\n",
    " \n",
    "**Time Complexity O(n^2)**"
   ]
  },
  {
   "cell_type": "code",
   "execution_count": null,
   "id": "a577ebec",
   "metadata": {},
   "outputs": [],
   "source": [
    "\n",
    "\n",
    "def selection_sort(arr:list):\n",
    "    for i in range(len(arr)-1):\n",
    "        curr_min_idx = i\n",
    "        for j in range(i+1, len(arr)):\n",
    "            if arr[j]< arr[curr_min_idx]:\n",
    "                curr_min_idx = j\n",
    "                \n",
    "        arr[i], arr[curr_min_idx] = arr[curr_min_idx], arr[i]\n",
    "             \n",
    "        \n",
    "        "
   ]
  },
  {
   "cell_type": "code",
   "execution_count": null,
   "id": "609401a8",
   "metadata": {},
   "outputs": [],
   "source": [
    "selection_sort(give_a_list_to_sort())"
   ]
  },
  {
   "cell_type": "markdown",
   "id": "d21f6b7d",
   "metadata": {},
   "source": [
    "# Merge Sort"
   ]
  },
  {
   "cell_type": "markdown",
   "id": "ea911c8b",
   "metadata": {},
   "source": [
    "**Merge sort has 2 part**\n",
    "\n",
    "- Divide:\n",
    "    - divide the array into smaller chunks\n",
    "    - until there is more than one element\n",
    "    \n",
    "- Merge the arrays\n",
    "    - loop over all the elements of both arrays.\n",
    "    - compare each elements of the arrays and reorganize main_list\n",
    "    \n",
    "    - if either array has elements left than itereate on that array and append all the items to the main list while keeping array index track.\n",
    "\n",
    "\n",
    "**Time Complexity O(n \\*log n)**"
   ]
  },
  {
   "cell_type": "code",
   "execution_count": null,
   "id": "5c0b9314",
   "metadata": {},
   "outputs": [],
   "source": [
    "def merge_sort(arr):\n",
    "    if len(arr)> 1:\n",
    "        left_arr = arr[:len(arr)//2]        \n",
    "        right_arr = arr[len(arr)//2:]\n",
    "    \n",
    "        merge_sort(left_arr)    \n",
    "        merge_sort(right_arr)\n",
    "\n",
    "        li = 0\n",
    "        ri = 0\n",
    "        ki = 0\n",
    "        while li <len(left_arr) and ri < len(right_arr):\n",
    "            if left_arr[li] < right_arr[ri]:\n",
    "                arr[ki] = left_arr[li]\n",
    "                li += 1\n",
    "            else:\n",
    "                arr[ki] = right_arr[ri]\n",
    "                ri += 1\n",
    "            ki += 1\n",
    "\n",
    "        while li < len(left_arr):\n",
    "            arr[ki] = left_arr[li]\n",
    "            li += 1\n",
    "            ki += 1\n",
    "\n",
    "        while ri < len(right_arr):\n",
    "            arr[ki] = right_arr[ri]\n",
    "            ri += 1\n",
    "            ki += 1"
   ]
  },
  {
   "cell_type": "code",
   "execution_count": null,
   "id": "cd9befd3",
   "metadata": {},
   "outputs": [],
   "source": [
    "list_to_sort = give_a_list_to_sort()\n",
    "print(list_to_sort)\n",
    "merge_sort(list_to_sort)\n",
    "print(list_to_sort)\n"
   ]
  },
  {
   "cell_type": "markdown",
   "id": "3a30c57c",
   "metadata": {},
   "source": [
    "# Insertion Sort\n",
    "\n",
    "- select a value to sort\n",
    "- then compare it with immidate previous item.\n",
    "- if prev. item bigger than swap until it's not. (using while loop)\n",
    "- reduce i to move the parent loop to backwords.\n",
    "\n",
    "***N.B:*** Since it's going to compare with the previous item therefore we are starting the loop from 2nd item of the list. (To compare previous item using **arr\\[ i - 1 \\]** notation.\n",
    "\n",
    "**Time Complexity** O(n^2)"
   ]
  },
  {
   "cell_type": "code",
   "execution_count": null,
   "id": "561cf4be",
   "metadata": {},
   "outputs": [],
   "source": [
    "def insertion_sort(arr):\n",
    "    for i in range(1, len(arr)):\n",
    "        value_to_sort = arr[i]\n",
    "        \n",
    "        while arr[i - 1] > value_to_sort and i>0:\n",
    "            arr[i], arr[i-1] = arr[i-1], arr[i]\n",
    "            i -= 1\n",
    "    return arr\n",
    "            "
   ]
  },
  {
   "cell_type": "code",
   "execution_count": null,
   "id": "5dae6427",
   "metadata": {},
   "outputs": [],
   "source": [
    "list_to_sort = give_a_list_to_sort(5)\n",
    "print(list_to_sort)\n",
    "insertion_sort(list_to_sort)"
   ]
  },
  {
   "cell_type": "code",
   "execution_count": null,
   "id": "7c6545e1",
   "metadata": {},
   "outputs": [],
   "source": []
  },
  {
   "cell_type": "code",
   "execution_count": 12,
   "id": "be200d10",
   "metadata": {},
   "outputs": [],
   "source": [
    "def selection_sort(seq:list):\n",
    "    for i in range(len(seq)):\n",
    "        curr_min = i\n",
    "        \n",
    "        for j in range(i+1, len(seq)):\n",
    "            if seq[j] < seq[curr_min]:\n",
    "                curr_min = j\n",
    "        \n",
    "        seq[i], seq[curr_min] = seq[curr_min], seq[i]\n",
    "                "
   ]
  },
  {
   "cell_type": "code",
   "execution_count": 15,
   "id": "ee891f25",
   "metadata": {},
   "outputs": [
    {
     "name": "stdout",
     "output_type": "stream",
     "text": [
      "[735, 433, 720, 876, 86, 349, 278, 71, 261, 330, 761, 356, 328, 984, 3, 782, 210, 64, 254, 86]\n",
      "[3, 64, 71, 86, 86, 210, 254, 261, 278, 328, 330, 349, 356, 433, 720, 735, 761, 782, 876, 984]\n"
     ]
    }
   ],
   "source": [
    "lts = give_a_list_to_sort(20)\n",
    "print(lts)\n",
    "selection_sort(lts)\n",
    "\n",
    "print(lts)\n"
   ]
  },
  {
   "cell_type": "code",
   "execution_count": null,
   "id": "ab921d02",
   "metadata": {},
   "outputs": [],
   "source": []
  },
  {
   "cell_type": "code",
   "execution_count": null,
   "id": "ca8abe6d",
   "metadata": {},
   "outputs": [],
   "source": []
  },
  {
   "cell_type": "code",
   "execution_count": null,
   "id": "1e8d754c",
   "metadata": {},
   "outputs": [],
   "source": []
  },
  {
   "cell_type": "code",
   "execution_count": null,
   "id": "56d713f5",
   "metadata": {},
   "outputs": [],
   "source": []
  },
  {
   "cell_type": "code",
   "execution_count": null,
   "id": "1fadd85c",
   "metadata": {},
   "outputs": [],
   "source": []
  },
  {
   "cell_type": "code",
   "execution_count": null,
   "id": "51640d8c",
   "metadata": {},
   "outputs": [],
   "source": []
  },
  {
   "cell_type": "code",
   "execution_count": null,
   "id": "e80b4b98",
   "metadata": {},
   "outputs": [],
   "source": []
  },
  {
   "cell_type": "code",
   "execution_count": null,
   "id": "db523974",
   "metadata": {},
   "outputs": [],
   "source": []
  },
  {
   "cell_type": "code",
   "execution_count": null,
   "id": "60ff5bcd",
   "metadata": {},
   "outputs": [],
   "source": []
  },
  {
   "cell_type": "code",
   "execution_count": null,
   "id": "b6be92ce",
   "metadata": {},
   "outputs": [],
   "source": []
  }
 ],
 "metadata": {
  "kernelspec": {
   "display_name": "Python 3 (ipykernel)",
   "language": "python",
   "name": "python3"
  },
  "language_info": {
   "codemirror_mode": {
    "name": "ipython",
    "version": 3
   },
   "file_extension": ".py",
   "mimetype": "text/x-python",
   "name": "python",
   "nbconvert_exporter": "python",
   "pygments_lexer": "ipython3",
   "version": "3.8.9"
  }
 },
 "nbformat": 4,
 "nbformat_minor": 5
}
