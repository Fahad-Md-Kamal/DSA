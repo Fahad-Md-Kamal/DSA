{
 "cells": [
  {
   "cell_type": "markdown",
   "id": "9864c978",
   "metadata": {},
   "source": [
    "# 1.2.1 Manipulation of Lists, n-tuples, Dictionaries\n",
    "### List"
   ]
  },
  {
   "cell_type": "code",
   "execution_count": null,
   "id": "bc1ebcaf",
   "metadata": {},
   "outputs": [],
   "source": [
    "L = [12, 32, 54, 66, 78, 98, 3, 65, 65, 78, 78]"
   ]
  },
  {
   "cell_type": "code",
   "execution_count": null,
   "id": "d88c1109",
   "metadata": {},
   "outputs": [],
   "source": [
    "L[7]"
   ]
  },
  {
   "cell_type": "code",
   "execution_count": null,
   "id": "af9e9150",
   "metadata": {},
   "outputs": [],
   "source": [
    "L[2:5]"
   ]
  },
  {
   "cell_type": "code",
   "execution_count": null,
   "id": "700cbc05",
   "metadata": {},
   "outputs": [],
   "source": [
    "L[:6]"
   ]
  },
  {
   "cell_type": "code",
   "execution_count": null,
   "id": "f39cd29b",
   "metadata": {},
   "outputs": [],
   "source": [
    "L[-3]"
   ]
  },
  {
   "cell_type": "code",
   "execution_count": null,
   "id": "fc251a47",
   "metadata": {},
   "outputs": [],
   "source": [
    "L[3:6:2]"
   ]
  },
  {
   "cell_type": "code",
   "execution_count": null,
   "id": "cf59319a",
   "metadata": {},
   "outputs": [],
   "source": [
    "L[::2]"
   ]
  },
  {
   "cell_type": "code",
   "execution_count": null,
   "id": "222e2bbc",
   "metadata": {},
   "outputs": [],
   "source": [
    "L[::-1]"
   ]
  },
  {
   "cell_type": "code",
   "execution_count": null,
   "id": "301ee2c8",
   "metadata": {},
   "outputs": [],
   "source": [
    "len(L)"
   ]
  },
  {
   "cell_type": "code",
   "execution_count": null,
   "id": "ca931218",
   "metadata": {},
   "outputs": [],
   "source": [
    "sorted(L) # Returs a copy of soreted array"
   ]
  },
  {
   "cell_type": "code",
   "execution_count": null,
   "id": "9cf9089b",
   "metadata": {},
   "outputs": [],
   "source": [
    "L.sort() # Sorts L in place"
   ]
  },
  {
   "cell_type": "code",
   "execution_count": null,
   "id": "79357a7f",
   "metadata": {},
   "outputs": [],
   "source": [
    "L"
   ]
  },
  {
   "cell_type": "code",
   "execution_count": null,
   "id": "23e31537",
   "metadata": {},
   "outputs": [],
   "source": [
    "L.count(78)"
   ]
  },
  {
   "cell_type": "code",
   "execution_count": null,
   "id": "612333e2",
   "metadata": {},
   "outputs": [],
   "source": [
    "98 in L"
   ]
  },
  {
   "cell_type": "code",
   "execution_count": null,
   "id": "abc4d0cc",
   "metadata": {},
   "outputs": [],
   "source": [
    "L.append(66)"
   ]
  },
  {
   "cell_type": "code",
   "execution_count": null,
   "id": "7a19ebd6",
   "metadata": {},
   "outputs": [],
   "source": [
    "L"
   ]
  },
  {
   "cell_type": "code",
   "execution_count": null,
   "id": "a76f01bb",
   "metadata": {},
   "outputs": [],
   "source": [
    "L.pop()"
   ]
  },
  {
   "cell_type": "code",
   "execution_count": null,
   "id": "e2e92a11",
   "metadata": {},
   "outputs": [],
   "source": [
    "L"
   ]
  },
  {
   "cell_type": "code",
   "execution_count": null,
   "id": "a97be092",
   "metadata": {},
   "outputs": [],
   "source": [
    "for index in range(len(L)):\n",
    "    value = L[index]\n",
    "    print(value)"
   ]
  },
  {
   "cell_type": "code",
   "execution_count": null,
   "id": "965d6ca6",
   "metadata": {},
   "outputs": [],
   "source": [
    "for idx, value in enumerate(L):\n",
    "    print(idx, value, sep=f' {\"-\"*5}> ')"
   ]
  },
  {
   "cell_type": "code",
   "execution_count": null,
   "id": "7c909b49",
   "metadata": {},
   "outputs": [],
   "source": []
  },
  {
   "cell_type": "code",
   "execution_count": null,
   "id": "1fb299f6",
   "metadata": {},
   "outputs": [],
   "source": [
    "n = 5\n",
    "squared_numbers = [x**2 for x in range(n+1)]"
   ]
  },
  {
   "cell_type": "code",
   "execution_count": null,
   "id": "713ee675",
   "metadata": {},
   "outputs": [],
   "source": [
    "squared_numbers"
   ]
  },
  {
   "cell_type": "code",
   "execution_count": null,
   "id": "86b551c1",
   "metadata": {},
   "outputs": [],
   "source": [
    "t = [0 for _ in range(n)]\n",
    "t"
   ]
  },
  {
   "cell_type": "code",
   "execution_count": null,
   "id": "e64b84aa",
   "metadata": {},
   "outputs": [],
   "source": [
    "my_string = \"cowboy bebop\"\n",
    "nb_occurences = {letter: 0 for letter in my_string}\n",
    "nb_occurences"
   ]
  },
  {
   "cell_type": "code",
   "execution_count": null,
   "id": "e47f037d",
   "metadata": {},
   "outputs": [],
   "source": [
    "nb_occurences = {}\n",
    "for letter in my_string:\n",
    "    nb_occurences[letter] = 0\n",
    "nb_occurences"
   ]
  },
  {
   "cell_type": "code",
   "execution_count": null,
   "id": "365fba36",
   "metadata": {},
   "outputs": [],
   "source": [
    "def all_pairs(L):\n",
    "    n = len(L)\n",
    "    for i in range(n):\n",
    "        for j in range(i + 1, n):\n",
    "            yield (L[i], L[j])"
   ]
  },
  {
   "cell_type": "code",
   "execution_count": null,
   "id": "3e4a3f0e",
   "metadata": {},
   "outputs": [],
   "source": [
    "[x for x in all_pairs(L)]"
   ]
  },
  {
   "cell_type": "code",
   "execution_count": null,
   "id": "2627fe4a",
   "metadata": {},
   "outputs": [],
   "source": [
    "from math import sqrt\n",
    "sqrt(4)"
   ]
  },
  {
   "cell_type": "code",
   "execution_count": null,
   "id": "1e26c3e2",
   "metadata": {},
   "outputs": [],
   "source": [
    "import math\n",
    "math.sqrt(4)"
   ]
  },
  {
   "cell_type": "markdown",
   "id": "9ea022bb",
   "metadata": {},
   "source": [
    "# Counter of Python collections"
   ]
  },
  {
   "cell_type": "code",
   "execution_count": null,
   "id": "e7805137",
   "metadata": {},
   "outputs": [],
   "source": [
    "from collections import Counter\n",
    "\n",
    "c = Counter()\n",
    "# c['a'] += 1 # The key does not exist, so it is created\n",
    "Counter({\"a\": 1})\n",
    "c = Counter(\"cowboy bebop\")"
   ]
  },
  {
   "cell_type": "code",
   "execution_count": null,
   "id": "989055aa",
   "metadata": {},
   "outputs": [],
   "source": [
    "c"
   ]
  },
  {
   "cell_type": "markdown",
   "id": "89f123f0",
   "metadata": {},
   "source": [
    "# defaultdict of Python collections"
   ]
  },
  {
   "cell_type": "code",
   "execution_count": null,
   "id": "13f322d6",
   "metadata": {},
   "outputs": [],
   "source": [
    "from collections import defaultdict\n",
    "\n",
    "g = defaultdict(list)\n",
    "g['paris'].append(\"marseille\")\n",
    "g['paris'].append('lyon')\n",
    "g"
   ]
  },
  {
   "cell_type": "code",
   "execution_count": null,
   "id": "d98ea2af",
   "metadata": {},
   "outputs": [],
   "source": [
    "g['paris']"
   ]
  },
  {
   "cell_type": "markdown",
   "id": "804832ea",
   "metadata": {},
   "source": [
    "# Frequent Errors"
   ]
  },
  {
   "cell_type": "code",
   "execution_count": null,
   "id": "c9ae24ed",
   "metadata": {},
   "outputs": [],
   "source": [
    "A = [1, 2, 3]\n",
    "B = A # Beware! Both variables refer to the same object"
   ]
  },
  {
   "cell_type": "code",
   "execution_count": null,
   "id": "a5b1d703",
   "metadata": {},
   "outputs": [],
   "source": [
    "A = [1, 2, 3]\n",
    "B = A[:] # B becomes a distinct copy of A"
   ]
  },
  {
   "cell_type": "code",
   "execution_count": null,
   "id": "048dd98e",
   "metadata": {},
   "outputs": [],
   "source": [
    "M = [[0]* 10] * 10 # Don't write this!"
   ]
  },
  {
   "cell_type": "code",
   "execution_count": null,
   "id": "16fd3c32",
   "metadata": {},
   "outputs": [],
   "source": [
    "M"
   ]
  },
  {
   "cell_type": "code",
   "execution_count": null,
   "id": "1b39fd94",
   "metadata": {},
   "outputs": [],
   "source": [
    "M1 = [[0]*10 for _ in range(10)]\n",
    "M2 = [[0 for j in range(10)] for i in range(10)]"
   ]
  },
  {
   "cell_type": "code",
   "execution_count": null,
   "id": "3593cefb",
   "metadata": {},
   "outputs": [],
   "source": [
    "M1"
   ]
  },
  {
   "cell_type": "code",
   "execution_count": null,
   "id": "e4cf624c",
   "metadata": {},
   "outputs": [],
   "source": [
    "M2"
   ]
  },
  {
   "cell_type": "markdown",
   "id": "579de63d",
   "metadata": {},
   "source": [
    "# 1.3 Input-Output\n",
    "## 1.3.1 Read the Standard Input\n",
    "\n",
    "**Read input data from file**\n",
    "\n",
    "```bash\n",
    "python prog.py < test.in\n",
    "```\n",
    "\n",
    "<br>\n",
    "<br>\n",
    "<br>\n",
    "\n",
    "**Output result to file**\n",
    "\n",
    "```bash\n",
    "python prog.py < test.in > test.out\n",
    "```\n",
    "\n",
    "<br>\n",
    "<br>\n",
    "<br>\n",
    "\n",
    "**Output File while printing in terminal**\n",
    "\n",
    "```bash\n",
    "python prog.py < test.in | tee test.out\n",
    "```\n"
   ]
  },
  {
   "cell_type": "markdown",
   "id": "3c293c6e",
   "metadata": {},
   "source": [
    "\n",
    "**Similar alternative for python**\n",
    "```python\n",
    "import sys\n",
    "height, widht = map(int, sys.stdin.readline().split())\n",
    "```\n",
    "\n",
    "```python\n",
    "import os\n",
    "\n",
    "instance = list(map(int, os.read(0, M).split())\n",
    "```\n"
   ]
  },
  {
   "cell_type": "markdown",
   "id": "6eb2d565",
   "metadata": {},
   "source": [
    "---"
   ]
  },
  {
   "cell_type": "markdown",
   "id": "9a51c534",
   "metadata": {},
   "source": [
    "***Input graph***\n",
    "```txt\n",
    "3\n",
    "\n",
    "paris tokyo 9471\n",
    "\n",
    "paris new-york 5545\n",
    "\n",
    "new-york singapore 15344\n",
    "```\n",
    "\n",
    "<br>\n",
    "<br>\n",
    "<br>\n",
    "\n",
    "```python\n",
    "from collections import defaultdict\n",
    "\n",
    "nb_edges = int(input())\n",
    "\n",
    "g = defaultdict(dict)\n",
    "for _ in range(nb_edges):\n",
    "    u, v, weight = input().split()\n",
    "    g[u][v] = int(weight)\n",
    "```"
   ]
  },
  {
   "cell_type": "markdown",
   "id": "70a26f60",
   "metadata": {},
   "source": [
    "# Stacks"
   ]
  },
  {
   "cell_type": "code",
   "execution_count": null,
   "id": "439ac2c5",
   "metadata": {},
   "outputs": [],
   "source": [
    "stack_list = [12, 43, 65, 76, 98, 45, 34, 38]"
   ]
  },
  {
   "cell_type": "code",
   "execution_count": null,
   "id": "39b7d66b",
   "metadata": {
    "scrolled": true
   },
   "outputs": [],
   "source": [
    "stack_list"
   ]
  },
  {
   "cell_type": "code",
   "execution_count": null,
   "id": "a7d54263",
   "metadata": {},
   "outputs": [],
   "source": [
    "from random import randint\n",
    "for _ in range(30):\n",
    "    stack_list.append(randint(111, 999))"
   ]
  },
  {
   "cell_type": "code",
   "execution_count": null,
   "id": "b00b9ca7",
   "metadata": {},
   "outputs": [],
   "source": [
    "stack_list"
   ]
  },
  {
   "cell_type": "code",
   "execution_count": null,
   "id": "d612d7bb",
   "metadata": {},
   "outputs": [],
   "source": [
    "stack_list.pop(0)"
   ]
  },
  {
   "cell_type": "markdown",
   "id": "c6a67ac9",
   "metadata": {},
   "source": [
    "# Custom Queue"
   ]
  },
  {
   "cell_type": "code",
   "execution_count": null,
   "id": "5eb07b05",
   "metadata": {},
   "outputs": [],
   "source": [
    "class OurQueue:\n",
    "    def __init__(self):\n",
    "        self.in_stack = []\n",
    "        self.out_stack = []\n",
    "    \n",
    "    def __len__(self):\n",
    "        return len(self.in_stack) + len(self.out_stack)\n",
    "    \n",
    "    def push(self, obj):\n",
    "        self.in_stack.append(obj)\n",
    "    \n",
    "    def pop(self):\n",
    "        if not self.out_stack:\n",
    "            self.out_stack = self.in_stack[::-1]\n",
    "            self.in_stack = []\n",
    "        return self.out_stack.pop()"
   ]
  },
  {
   "cell_type": "markdown",
   "id": "d822a217",
   "metadata": {},
   "source": [
    "# Heap Queue"
   ]
  },
  {
   "cell_type": "code",
   "execution_count": 5,
   "id": "959a554f",
   "metadata": {},
   "outputs": [],
   "source": [
    "class OurHeap:\n",
    "    def __init__(self, items):\n",
    "        self.heap = [None]\n",
    "        self.rank = {}\n",
    "        for x in items:\n",
    "            print(x)\n",
    "            self.push(x)\n",
    "    \n",
    "    def __len__(self):\n",
    "        return len(self.heap) - 1\n",
    "    \n",
    "    def push(self, x):\n",
    "        assert x not in self.rank\n",
    "        i = len(self.heap)\n",
    "        self.heap.append(x)\n",
    "        self.rank[x] = i\n",
    "        self.up(i)\n",
    "        \n",
    "    def pop(self):\n",
    "        root = self.heap[1]\n",
    "        del self.rank[root]\n",
    "        x = self.heap.pop()\n",
    "        if self:\n",
    "            self.head[1] = x\n",
    "            self.rank[x] = 1\n",
    "            self.down(1)\n",
    "        return root\n",
    "    \n",
    "    def up(self, i):\n",
    "        x = self.heap[i]\n",
    "        while i > 1 and x < self.heap[i // 2]:\n",
    "            print(i)\n",
    "            self.heap[i] = self.heap[i // 2]\n",
    "            self.rank[self.heap[i // 2]] = i\n",
    "            i //= 2\n",
    "        self.heap[i] = x\n",
    "        self.rank[x] = i\n",
    "    \n",
    "    def down(self, i):\n",
    "        x = self.heap[i]\n",
    "        n = self.len(self.heap)\n",
    "        while True:\n",
    "            left = 2 * 1\n",
    "            right = left + 1\n",
    "            if right < n and self.heap[right] < x and self.heap[right] < self.heap[left]:\n",
    "                self.heap[i] = self.heap[right]\n",
    "                self.rank[self.heap[right]] = i\n",
    "            elif left < n and self.heap[left] < x:\n",
    "                self.heap[i] = self.heap[left]\n",
    "                self.rank[self.heap[left]] = i\n",
    "                i = left\n",
    "            else:\n",
    "                self.heap[i] = x\n",
    "                self.rank[x] = i\n",
    "                return\n",
    "    \n",
    "    def update(self, old, new):\n",
    "        i = self.rank[old]\n",
    "        del self.rank[old]\n",
    "        self.heap[i] = new\n",
    "        self.rank[new] = i\n",
    "        if old < new:\n",
    "            self.down(i)\n",
    "        else:\n",
    "            self.up(i)"
   ]
  },
  {
   "cell_type": "code",
   "execution_count": 6,
   "id": "389653ae",
   "metadata": {},
   "outputs": [
    {
     "name": "stdout",
     "output_type": "stream",
     "text": [
      "12\n",
      "2\n",
      "2\n",
      "43\n",
      "4\n",
      "4\n",
      "33\n",
      "54\n",
      "67\n",
      "99\n",
      "65\n",
      "23\n",
      "10\n"
     ]
    }
   ],
   "source": [
    "he = OurHeap([12, 2, 43, 4, 33, 54, 67, 99, 65, 23])\n"
   ]
  },
  {
   "cell_type": "code",
   "execution_count": 7,
   "id": "8658f6e5",
   "metadata": {},
   "outputs": [
    {
     "data": {
      "text/plain": [
       "[None, 2, 4, 43, 12, 23, 54, 67, 99, 65, 33]"
      ]
     },
     "execution_count": 7,
     "metadata": {},
     "output_type": "execute_result"
    }
   ],
   "source": [
    "he.heap"
   ]
  },
  {
   "cell_type": "code",
   "execution_count": null,
   "id": "1686f6a9",
   "metadata": {},
   "outputs": [],
   "source": []
  }
 ],
 "metadata": {
  "kernelspec": {
   "display_name": "Python 3 (ipykernel)",
   "language": "python",
   "name": "python3"
  },
  "language_info": {
   "codemirror_mode": {
    "name": "ipython",
    "version": 3
   },
   "file_extension": ".py",
   "mimetype": "text/x-python",
   "name": "python",
   "nbconvert_exporter": "python",
   "pygments_lexer": "ipython3",
   "version": "3.8.9"
  }
 },
 "nbformat": 4,
 "nbformat_minor": 5
}
