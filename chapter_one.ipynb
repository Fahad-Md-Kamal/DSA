{
 "cells": [
  {
   "cell_type": "markdown",
   "id": "f22440ac",
   "metadata": {},
   "source": [
    "# 1.2.1 Manipulation of Lists, n-tuples, Dictionaries\n",
    "### List"
   ]
  },
  {
   "cell_type": "code",
   "execution_count": null,
   "id": "b46e13b1",
   "metadata": {},
   "outputs": [],
   "source": [
    "L = [12, 32, 54, 66, 78, 98, 3, 65, 65, 78, 78]"
   ]
  },
  {
   "cell_type": "code",
   "execution_count": null,
   "id": "14238996",
   "metadata": {},
   "outputs": [],
   "source": [
    "L[7]"
   ]
  },
  {
   "cell_type": "code",
   "execution_count": null,
   "id": "f009cc82",
   "metadata": {},
   "outputs": [],
   "source": [
    "L[2:5]"
   ]
  },
  {
   "cell_type": "code",
   "execution_count": null,
   "id": "8c49403d",
   "metadata": {},
   "outputs": [],
   "source": [
    "L[:6]"
   ]
  },
  {
   "cell_type": "code",
   "execution_count": null,
   "id": "a01c1699",
   "metadata": {},
   "outputs": [],
   "source": [
    "L[-3]"
   ]
  },
  {
   "cell_type": "code",
   "execution_count": null,
   "id": "df00aa9e",
   "metadata": {},
   "outputs": [],
   "source": [
    "L[3:6:2]"
   ]
  },
  {
   "cell_type": "code",
   "execution_count": null,
   "id": "8d423a34",
   "metadata": {},
   "outputs": [],
   "source": [
    "L[::2]"
   ]
  },
  {
   "cell_type": "code",
   "execution_count": null,
   "id": "dd22c9ad",
   "metadata": {},
   "outputs": [],
   "source": [
    "L[::-1]"
   ]
  },
  {
   "cell_type": "code",
   "execution_count": null,
   "id": "c29332bb",
   "metadata": {},
   "outputs": [],
   "source": [
    "len(L)"
   ]
  },
  {
   "cell_type": "code",
   "execution_count": null,
   "id": "b65b1fe8",
   "metadata": {},
   "outputs": [],
   "source": [
    "sorted(L) # Returs a copy of soreted array"
   ]
  },
  {
   "cell_type": "code",
   "execution_count": null,
   "id": "e3d06073",
   "metadata": {},
   "outputs": [],
   "source": [
    "L.sort() # Sorts L in place"
   ]
  },
  {
   "cell_type": "code",
   "execution_count": null,
   "id": "b5fbab49",
   "metadata": {},
   "outputs": [],
   "source": [
    "L"
   ]
  },
  {
   "cell_type": "code",
   "execution_count": null,
   "id": "500f0f2d",
   "metadata": {},
   "outputs": [],
   "source": [
    "L.count(78)"
   ]
  },
  {
   "cell_type": "code",
   "execution_count": null,
   "id": "06e75464",
   "metadata": {},
   "outputs": [],
   "source": [
    "98 in L"
   ]
  },
  {
   "cell_type": "code",
   "execution_count": null,
   "id": "f5d18b00",
   "metadata": {},
   "outputs": [],
   "source": [
    "L.append(66)"
   ]
  },
  {
   "cell_type": "code",
   "execution_count": null,
   "id": "095ebe05",
   "metadata": {},
   "outputs": [],
   "source": [
    "L"
   ]
  },
  {
   "cell_type": "code",
   "execution_count": null,
   "id": "5e4a02d1",
   "metadata": {},
   "outputs": [],
   "source": [
    "L.pop()"
   ]
  },
  {
   "cell_type": "code",
   "execution_count": null,
   "id": "1600663b",
   "metadata": {},
   "outputs": [],
   "source": [
    "L"
   ]
  },
  {
   "cell_type": "code",
   "execution_count": null,
   "id": "eda1a760",
   "metadata": {},
   "outputs": [],
   "source": [
    "for index in range(len(L)):\n",
    "    value = L[index]\n",
    "    print(value)"
   ]
  },
  {
   "cell_type": "code",
   "execution_count": null,
   "id": "f39e6908",
   "metadata": {},
   "outputs": [],
   "source": [
    "for idx, value in enumerate(L):\n",
    "    print(idx, value, sep=f' {\"-\"*5}> ')"
   ]
  },
  {
   "cell_type": "code",
   "execution_count": null,
   "id": "91024deb",
   "metadata": {},
   "outputs": [],
   "source": []
  },
  {
   "cell_type": "code",
   "execution_count": null,
   "id": "b33b9d54",
   "metadata": {},
   "outputs": [],
   "source": [
    "n = 5\n",
    "squared_numbers = [x**2 for x in range(n+1)]"
   ]
  },
  {
   "cell_type": "code",
   "execution_count": null,
   "id": "781db932",
   "metadata": {},
   "outputs": [],
   "source": [
    "squared_numbers"
   ]
  },
  {
   "cell_type": "code",
   "execution_count": null,
   "id": "f0dca90a",
   "metadata": {},
   "outputs": [],
   "source": [
    "t = [0 for _ in range(n)]\n",
    "t"
   ]
  },
  {
   "cell_type": "code",
   "execution_count": null,
   "id": "8328b47d",
   "metadata": {},
   "outputs": [],
   "source": [
    "my_string = \"cowboy bebop\"\n",
    "nb_occurences = {letter: 0 for letter in my_string}\n",
    "nb_occurences"
   ]
  },
  {
   "cell_type": "code",
   "execution_count": null,
   "id": "99085182",
   "metadata": {},
   "outputs": [],
   "source": [
    "nb_occurences = {}\n",
    "for letter in my_string:\n",
    "    nb_occurences[letter] = 0\n",
    "nb_occurences"
   ]
  },
  {
   "cell_type": "code",
   "execution_count": null,
   "id": "bd2c18c6",
   "metadata": {},
   "outputs": [],
   "source": [
    "def all_pairs(L):\n",
    "    n = len(L)\n",
    "    for i in range(n):\n",
    "        for j in range(i + 1, n):\n",
    "            yield (L[i], L[j])"
   ]
  },
  {
   "cell_type": "code",
   "execution_count": null,
   "id": "fe2f1c7d",
   "metadata": {},
   "outputs": [],
   "source": [
    "[x for x in all_pairs(L)]"
   ]
  },
  {
   "cell_type": "code",
   "execution_count": null,
   "id": "5fb6ba92",
   "metadata": {},
   "outputs": [],
   "source": [
    "from math import sqrt\n",
    "sqrt(4)"
   ]
  },
  {
   "cell_type": "code",
   "execution_count": null,
   "id": "99b809da",
   "metadata": {},
   "outputs": [],
   "source": [
    "import math\n",
    "math.sqrt(4)"
   ]
  },
  {
   "cell_type": "markdown",
   "id": "4893cea1",
   "metadata": {},
   "source": [
    "# Counter of Python collections"
   ]
  },
  {
   "cell_type": "code",
   "execution_count": null,
   "id": "35ab06e7",
   "metadata": {},
   "outputs": [],
   "source": [
    "from collections import Counter\n",
    "\n",
    "c = Counter()\n",
    "# c['a'] += 1 # The key does not exist, so it is created\n",
    "Counter({\"a\": 1})\n",
    "c = Counter(\"cowboy bebop\")"
   ]
  },
  {
   "cell_type": "code",
   "execution_count": null,
   "id": "9b6c4f9a",
   "metadata": {},
   "outputs": [],
   "source": [
    "c"
   ]
  },
  {
   "cell_type": "markdown",
   "id": "cb3fb6e3",
   "metadata": {},
   "source": [
    "# defaultdict of Python collections"
   ]
  },
  {
   "cell_type": "code",
   "execution_count": null,
   "id": "8ca20864",
   "metadata": {},
   "outputs": [],
   "source": [
    "from collections import defaultdict\n",
    "\n",
    "g = defaultdict(list)\n",
    "g['paris'].append(\"marseille\")\n",
    "g['paris'].append('lyon')\n",
    "g"
   ]
  },
  {
   "cell_type": "code",
   "execution_count": null,
   "id": "03d44454",
   "metadata": {},
   "outputs": [],
   "source": [
    "g['paris']"
   ]
  },
  {
   "cell_type": "markdown",
   "id": "5a7cee08",
   "metadata": {},
   "source": [
    "# Frequent Errors"
   ]
  },
  {
   "cell_type": "code",
   "execution_count": null,
   "id": "e9db723c",
   "metadata": {},
   "outputs": [],
   "source": [
    "A = [1, 2, 3]\n",
    "B = A # Beware! Both variables refer to the same object"
   ]
  },
  {
   "cell_type": "code",
   "execution_count": null,
   "id": "7c1ea696",
   "metadata": {},
   "outputs": [],
   "source": [
    "A = [1, 2, 3]\n",
    "B = A[:] # B becomes a distinct copy of A"
   ]
  },
  {
   "cell_type": "code",
   "execution_count": null,
   "id": "063ab954",
   "metadata": {},
   "outputs": [],
   "source": [
    "M = [[0]* 10] * 10 # Don't write this!"
   ]
  },
  {
   "cell_type": "code",
   "execution_count": null,
   "id": "55d7e1d9",
   "metadata": {},
   "outputs": [],
   "source": [
    "M"
   ]
  },
  {
   "cell_type": "code",
   "execution_count": null,
   "id": "b965dc98",
   "metadata": {},
   "outputs": [],
   "source": [
    "M1 = [[0]*10 for _ in range(10)]\n",
    "M2 = [[0 for j in range(10)] for i in range(10)]"
   ]
  },
  {
   "cell_type": "code",
   "execution_count": null,
   "id": "d0a272c4",
   "metadata": {},
   "outputs": [],
   "source": [
    "M1"
   ]
  },
  {
   "cell_type": "code",
   "execution_count": null,
   "id": "f80a7306",
   "metadata": {},
   "outputs": [],
   "source": [
    "M2"
   ]
  },
  {
   "cell_type": "markdown",
   "id": "0c05dd44",
   "metadata": {},
   "source": [
    "# 1.3 Input-Output\n",
    "## 1.3.1 Read the Standard Input\n",
    "\n",
    "**Read input data from file**\n",
    "\n",
    "```bash\n",
    "python prog.py < test.in\n",
    "```\n",
    "\n",
    "<br>\n",
    "<br>\n",
    "<br>\n",
    "\n",
    "**Output result to file**\n",
    "\n",
    "```bash\n",
    "python prog.py < test.in > test.out\n",
    "```\n",
    "\n",
    "<br>\n",
    "<br>\n",
    "<br>\n",
    "\n",
    "**Output File while printing in terminal**\n",
    "\n",
    "```bash\n",
    "python prog.py < test.in | tee test.out\n",
    "```\n"
   ]
  },
  {
   "cell_type": "markdown",
   "id": "9c177a73",
   "metadata": {},
   "source": [
    "\n",
    "**Similar alternative for python**\n",
    "```python\n",
    "import sys\n",
    "height, widht = map(int, sys.stdin.readline().split())\n",
    "```\n",
    "\n",
    "```python\n",
    "import os\n",
    "\n",
    "instance = list(map(int, os.read(0, M).split())\n",
    "```\n"
   ]
  },
  {
   "cell_type": "markdown",
   "id": "940d6279",
   "metadata": {},
   "source": [
    "---"
   ]
  },
  {
   "cell_type": "markdown",
   "id": "b1c76ad7",
   "metadata": {},
   "source": [
    "***Input graph***\n",
    "```txt\n",
    "3\n",
    "\n",
    "paris tokyo 9471\n",
    "\n",
    "paris new-york 5545\n",
    "\n",
    "new-york singapore 15344\n",
    "```\n",
    "\n",
    "<br>\n",
    "<br>\n",
    "<br>\n",
    "\n",
    "```python\n",
    "from collections import defaultdict\n",
    "\n",
    "nb_edges = int(input())\n",
    "\n",
    "g = defaultdict(dict)\n",
    "for _ in range(nb_edges):\n",
    "    u, v, weight = input().split()\n",
    "    g[u][v] = int(weight)\n",
    "```"
   ]
  }
 ],
 "metadata": {
  "kernelspec": {
   "display_name": "Python 3 (ipykernel)",
   "language": "python",
   "name": "python3"
  },
  "language_info": {
   "codemirror_mode": {
    "name": "ipython",
    "version": 3
   },
   "file_extension": ".py",
   "mimetype": "text/x-python",
   "name": "python",
   "nbconvert_exporter": "python",
   "pygments_lexer": "ipython3",
   "version": "3.8.9"
  }
 },
 "nbformat": 4,
 "nbformat_minor": 5
}
