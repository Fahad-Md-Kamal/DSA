{
 "cells": [
  {
   "cell_type": "code",
   "execution_count": 77,
   "id": "33f05999-be21-40fe-aaef-f85fc9d797e7",
   "metadata": {},
   "outputs": [],
   "source": [
    "class Node:\n",
    "    def __init__(self, head):\n",
    "        self.head = head\n",
    "        self.next = None\n",
    "    \n",
    "    def __repr__(self):\n",
    "        return str(self.head)"
   ]
  },
  {
   "cell_type": "code",
   "execution_count": 78,
   "id": "395f81b1-d130-42ca-8dbc-b262cbaf5938",
   "metadata": {},
   "outputs": [],
   "source": [
    "a = Node(1)\n",
    "b = Node(2)\n",
    "c = Node(3)\n",
    "d = Node(4)"
   ]
  },
  {
   "cell_type": "code",
   "execution_count": 79,
   "id": "9cd457b8-b16e-40b0-b042-1a1823396183",
   "metadata": {},
   "outputs": [],
   "source": [
    "a.next = b\n",
    "b.next = c\n",
    "c.next = d"
   ]
  },
  {
   "cell_type": "code",
   "execution_count": 80,
   "id": "e7fe81fc-61e0-4108-88b6-8b289e9105a9",
   "metadata": {},
   "outputs": [],
   "source": [
    "def print_list(node):\n",
    "    \"\"\" Iterative Call \"\"\"\n",
    "    current = node\n",
    "    while current:\n",
    "        print(current.head)\n",
    "        current = current.next"
   ]
  },
  {
   "cell_type": "code",
   "execution_count": 81,
   "id": "1202890c-6c17-47b2-b86e-d26d212a6437",
   "metadata": {},
   "outputs": [],
   "source": [
    "def iterate_ll(node):\n",
    "    \"\"\" Recursive Call \"\"\"\n",
    "    if node == None: return\n",
    "    print(node.head)\n",
    "    iterate_ll(node.next)"
   ]
  },
  {
   "cell_type": "code",
   "execution_count": 82,
   "id": "0d9ead3a-645e-4a21-835c-f44263a05977",
   "metadata": {},
   "outputs": [],
   "source": [
    "def linkedListValues(node):\n",
    "    values = []\n",
    "    current = node\n",
    "    while current:\n",
    "        values.append(current.head)\n",
    "        current = current.next\n",
    "    return values"
   ]
  },
  {
   "cell_type": "code",
   "execution_count": 83,
   "id": "82ec4e43-ff56-4728-9218-3154551611d5",
   "metadata": {},
   "outputs": [
    {
     "data": {
      "text/plain": [
       "[3, 4]"
      ]
     },
     "execution_count": 83,
     "metadata": {},
     "output_type": "execute_result"
    }
   ],
   "source": [
    "linkedListValues(c)"
   ]
  },
  {
   "cell_type": "code",
   "execution_count": 84,
   "id": "acfeb686-dfae-4ebd-a99a-fad963edf58a",
   "metadata": {},
   "outputs": [],
   "source": [
    "def linkedListValue_recur(node, values:list):\n",
    "    if node == None:\n",
    "        return values\n",
    "    values.append(node.head)\n",
    "    return linkedListValue_recur(node.next, values)"
   ]
  },
  {
   "cell_type": "code",
   "execution_count": 85,
   "id": "a506cd9e-5eea-4499-b781-f01df76ad788",
   "metadata": {
    "tags": []
   },
   "outputs": [
    {
     "data": {
      "text/plain": [
       "[1, 2, 3, 4]"
      ]
     },
     "execution_count": 85,
     "metadata": {},
     "output_type": "execute_result"
    }
   ],
   "source": [
    "linkedListValue_recur(a, [])"
   ]
  },
  {
   "cell_type": "markdown",
   "id": "d20fe85f-e12f-4d6e-a304-438cf7f450f6",
   "metadata": {},
   "source": [
    "## Sum of LinkedList"
   ]
  },
  {
   "cell_type": "code",
   "execution_count": 86,
   "id": "09ea9f0f-ff37-40b2-91fa-c02e3fda985d",
   "metadata": {},
   "outputs": [],
   "source": [
    "def sumList(node):\n",
    "    sum_result = 0\n",
    "    while node:\n",
    "        sum_result += node.head\n",
    "        node = node.next\n",
    "    return sum_result"
   ]
  },
  {
   "cell_type": "code",
   "execution_count": 87,
   "id": "c8c09be2-2c67-4912-a3ef-47079b02e946",
   "metadata": {},
   "outputs": [
    {
     "data": {
      "text/plain": [
       "10"
      ]
     },
     "execution_count": 87,
     "metadata": {},
     "output_type": "execute_result"
    }
   ],
   "source": [
    "sumList(a)"
   ]
  },
  {
   "cell_type": "code",
   "execution_count": 88,
   "id": "c2c633c9-e436-4946-aadf-aabedb10110d",
   "metadata": {},
   "outputs": [],
   "source": [
    "def sum_list_recur(node):\n",
    "    if node == None: \n",
    "        return 0\n",
    "    return node.head + sum_list_recur(node.next)"
   ]
  },
  {
   "cell_type": "code",
   "execution_count": 89,
   "id": "b3b30020-c461-46b9-8cdb-931c25519806",
   "metadata": {},
   "outputs": [
    {
     "data": {
      "text/plain": [
       "10"
      ]
     },
     "execution_count": 89,
     "metadata": {},
     "output_type": "execute_result"
    }
   ],
   "source": [
    "sum_list_recur(a)"
   ]
  },
  {
   "cell_type": "code",
   "execution_count": 90,
   "id": "0ea7f468-f57e-451d-9402-5dc9cdf23b09",
   "metadata": {},
   "outputs": [
    {
     "name": "stdout",
     "output_type": "stream",
     "text": [
      "4\n"
     ]
    }
   ],
   "source": [
    "print_list(d)"
   ]
  },
  {
   "cell_type": "code",
   "execution_count": 91,
   "id": "450c61a5-dc31-4f0b-8967-afac892b975f",
   "metadata": {},
   "outputs": [],
   "source": [
    "def check_head(node, target):\n",
    "    count = 0\n",
    "    while node:\n",
    "        if node.head == target: return count\n",
    "        count += 1\n",
    "        node = node.next\n",
    "    return -1\n",
    "        "
   ]
  },
  {
   "cell_type": "code",
   "execution_count": 92,
   "id": "c3051d69-0a60-4ec5-99a4-8f04eda17940",
   "metadata": {},
   "outputs": [
    {
     "data": {
      "text/plain": [
       "-1"
      ]
     },
     "execution_count": 92,
     "metadata": {},
     "output_type": "execute_result"
    }
   ],
   "source": [
    "check_head(a, 9)"
   ]
  },
  {
   "cell_type": "code",
   "execution_count": 93,
   "id": "8a334f6a-fb68-4af3-9d3a-a2a542f3ddcc",
   "metadata": {},
   "outputs": [],
   "source": [
    "def check_head_recur(node, target, index=0):\n",
    "    if node == None: return -1\n",
    "    if node.head == target: return index\n",
    "    return check_head_recur(node.next, target, index+1)"
   ]
  },
  {
   "cell_type": "code",
   "execution_count": 94,
   "id": "b3cc4fb7-1b39-4d46-aa9c-1859242c4f8b",
   "metadata": {},
   "outputs": [
    {
     "data": {
      "text/plain": [
       "-1"
      ]
     },
     "execution_count": 94,
     "metadata": {},
     "output_type": "execute_result"
    }
   ],
   "source": [
    "check_head_recur(a, 9)"
   ]
  },
  {
   "cell_type": "code",
   "execution_count": 95,
   "id": "d5f49c20-19ae-4fbf-aaf1-0fcb4adc1d52",
   "metadata": {},
   "outputs": [],
   "source": [
    "def find_node(node, target):\n",
    "    count = 0\n",
    "    while node:\n",
    "        if node.head == target: return count\n",
    "        node = node.next\n",
    "        count += 1\n",
    "    return -1"
   ]
  },
  {
   "cell_type": "code",
   "execution_count": 96,
   "id": "f91d2a1f-2689-495f-84de-50187c758ef0",
   "metadata": {},
   "outputs": [
    {
     "data": {
      "text/plain": [
       "-1"
      ]
     },
     "execution_count": 96,
     "metadata": {},
     "output_type": "execute_result"
    }
   ],
   "source": [
    "find_node(a,93)"
   ]
  },
  {
   "cell_type": "code",
   "execution_count": 97,
   "id": "8bda6127-f91c-430e-b5ad-c2cf6756b674",
   "metadata": {},
   "outputs": [],
   "source": [
    "def find_node_recur(node, target, index=0):\n",
    "    if node == None: return -1\n",
    "    if node.head == target: return index\n",
    "    return find_node_recur(node.next, target, index+1)"
   ]
  },
  {
   "cell_type": "code",
   "execution_count": 98,
   "id": "971c5db3-9ad4-4d92-bbc3-1b98198279c4",
   "metadata": {},
   "outputs": [
    {
     "data": {
      "text/plain": [
       "-1"
      ]
     },
     "execution_count": 98,
     "metadata": {},
     "output_type": "execute_result"
    }
   ],
   "source": [
    "find_node_recur(a, 33)"
   ]
  },
  {
   "cell_type": "markdown",
   "id": "e8636b12-a5be-4ad9-a019-abd134236420",
   "metadata": {},
   "source": [
    "# Reverse List "
   ]
  },
  {
   "cell_type": "code",
   "execution_count": 99,
   "id": "36a052f6-c971-4266-92ac-d4169737d677",
   "metadata": {},
   "outputs": [],
   "source": [
    "def reverse_list(node):\n",
    "    prev = None\n",
    "    current = node\n",
    "    while current:\n",
    "        next_node = current.next\n",
    "        current.next = prev\n",
    "        prev = current\n",
    "        current = next_node\n",
    "    return prev"
   ]
  },
  {
   "cell_type": "code",
   "execution_count": 100,
   "id": "b6bfd48c-050f-4ef0-8ca1-bd8a5b75fe33",
   "metadata": {},
   "outputs": [],
   "source": [
    "rev_res = reverse_list(a)"
   ]
  },
  {
   "cell_type": "code",
   "execution_count": 101,
   "id": "dbc72efa-330c-4c79-a9b3-e1adf2acc18f",
   "metadata": {
    "tags": []
   },
   "outputs": [
    {
     "name": "stdout",
     "output_type": "stream",
     "text": [
      "4\n",
      "3\n",
      "2\n",
      "1\n"
     ]
    }
   ],
   "source": [
    "print_list(rev_res)"
   ]
  },
  {
   "cell_type": "code",
   "execution_count": 102,
   "id": "2468a489-2bc7-48a7-b78c-a95b519285b0",
   "metadata": {},
   "outputs": [],
   "source": [
    "def reverse_list_recur(node, prev= None):\n",
    "    if not node: return prev\n",
    "    next_node = node.next\n",
    "    node.next = prev\n",
    "    return reverse_list_recur(next_node, node)"
   ]
  },
  {
   "cell_type": "code",
   "execution_count": 103,
   "id": "2934a5cc-0147-4c80-ba38-58db95a28560",
   "metadata": {},
   "outputs": [],
   "source": [
    "re = reverse_list_recur(d)"
   ]
  },
  {
   "cell_type": "code",
   "execution_count": 104,
   "id": "3f389a2b-ade5-420c-bce2-59e8200e5810",
   "metadata": {},
   "outputs": [
    {
     "name": "stdout",
     "output_type": "stream",
     "text": [
      "1\n",
      "2\n",
      "3\n",
      "4\n"
     ]
    }
   ],
   "source": [
    "print_list(re)"
   ]
  },
  {
   "cell_type": "markdown",
   "id": "f579129d-5d52-4c15-8305-83ec0bff03cf",
   "metadata": {},
   "source": [
    "# Zipper List "
   ]
  },
  {
   "cell_type": "code",
   "execution_count": 112,
   "id": "92e0fd6a-5c8e-4d86-bd86-d8cdf68d3c7c",
   "metadata": {},
   "outputs": [],
   "source": [
    "# A -> Q -> B -> R -> C -> D\n",
    "def zipper_list (node1, node2):\n",
    "    count = 0\n",
    "    while node1 and node2:\n",
    "        if count % 2 == 0:\n",
    "            node_next = node1.next\n",
    "            node1.next = node2\n",
    "            node2 = node_next\n",
    "        count += 1\n",
    "    if node1: node1.next = node1\n",
    "    if node2: node2.next = node2\n",
    "    return head1\n",
    "        "
   ]
  },
  {
   "cell_type": "code",
   "execution_count": 113,
   "id": "7aff358d-a2e7-4ddc-a9cb-1ca0289136dc",
   "metadata": {},
   "outputs": [],
   "source": [
    "q = Node('Q')"
   ]
  },
  {
   "cell_type": "code",
   "execution_count": 114,
   "id": "bdb4f225-06fb-4619-9c6e-a3b9d627caf0",
   "metadata": {},
   "outputs": [],
   "source": [
    "r = Node('R')"
   ]
  },
  {
   "cell_type": "code",
   "execution_count": 115,
   "id": "288340d4-8379-4435-8532-55d0b7af2df7",
   "metadata": {},
   "outputs": [],
   "source": [
    "q.next = r"
   ]
  },
  {
   "cell_type": "code",
   "execution_count": 116,
   "id": "75f0859d-af34-4097-acda-5fe06b30ba73",
   "metadata": {},
   "outputs": [
    {
     "name": "stdout",
     "output_type": "stream",
     "text": [
      "1\n",
      "3\n",
      "4\n"
     ]
    }
   ],
   "source": [
    "print_list(a)"
   ]
  },
  {
   "cell_type": "code",
   "execution_count": 117,
   "id": "d2c7ccea-047c-4c57-b335-d6adf93a12ed",
   "metadata": {},
   "outputs": [
    {
     "ename": "KeyboardInterrupt",
     "evalue": "",
     "output_type": "error",
     "traceback": [
      "\u001b[0;31m---------------------------------------------------------------------------\u001b[0m",
      "\u001b[0;31mKeyboardInterrupt\u001b[0m                         Traceback (most recent call last)",
      "Input \u001b[0;32mIn [117]\u001b[0m, in \u001b[0;36m<cell line: 1>\u001b[0;34m()\u001b[0m\n\u001b[0;32m----> 1\u001b[0m \u001b[43mzipper_list\u001b[49m\u001b[43m(\u001b[49m\u001b[43ma\u001b[49m\u001b[43m,\u001b[49m\u001b[43m \u001b[49m\u001b[43mq\u001b[49m\u001b[43m)\u001b[49m\n",
      "Input \u001b[0;32mIn [112]\u001b[0m, in \u001b[0;36mzipper_list\u001b[0;34m(node1, node2)\u001b[0m\n\u001b[1;32m      7\u001b[0m         node1\u001b[38;5;241m.\u001b[39mnext \u001b[38;5;241m=\u001b[39m node2\n\u001b[1;32m      8\u001b[0m         node2 \u001b[38;5;241m=\u001b[39m node_next\n\u001b[0;32m----> 9\u001b[0m     count \u001b[38;5;241m+\u001b[39m\u001b[38;5;241m=\u001b[39m \u001b[38;5;241m1\u001b[39m\n\u001b[1;32m     10\u001b[0m \u001b[38;5;28;01mif\u001b[39;00m node1: node1\u001b[38;5;241m.\u001b[39mnext \u001b[38;5;241m=\u001b[39m node1\n\u001b[1;32m     11\u001b[0m \u001b[38;5;28;01mif\u001b[39;00m node2: node2\u001b[38;5;241m.\u001b[39mnext \u001b[38;5;241m=\u001b[39m node2\n",
      "\u001b[0;31mKeyboardInterrupt\u001b[0m: "
     ]
    }
   ],
   "source": [
    "zipper_list(a, q)"
   ]
  },
  {
   "cell_type": "code",
   "execution_count": 131,
   "id": "f9a41305-0e75-4284-9703-8c64242b6d64",
   "metadata": {},
   "outputs": [
    {
     "name": "stdin",
     "output_type": "stream",
     "text": [
      " 3\n",
      " ba 7\n",
      " ca 9\n",
      " ba 3\n"
     ]
    },
    {
     "name": "stdout",
     "output_type": "stream",
     "text": [
      "BA 10\n",
      "CA 9\n"
     ]
    }
   ],
   "source": [
    "from collections import OrderedDict\n",
    "\n",
    "ord_dict = OrderedDict()\n",
    "\n",
    "for i in range(int(input())):\n",
    "   item, space, qty = input().rpartition(' ')\n",
    "   ord_dict[item] = ord_dict.get(item, 0) + int(qty)\n",
    "    \n",
    "for item, quantity in ord_dict.items():\n",
    "    print(item.upper(), quantity)"
   ]
  },
  {
   "cell_type": "code",
   "execution_count": 126,
   "id": "738d2610-ea70-4412-b522-6ed188b3408d",
   "metadata": {},
   "outputs": [
    {
     "data": {
      "text/plain": [
       "OrderedDict([('BA', 40), ('CA', 3)])"
      ]
     },
     "execution_count": 126,
     "metadata": {},
     "output_type": "execute_result"
    }
   ],
   "source": [
    "ord_dict"
   ]
  },
  {
   "cell_type": "code",
   "execution_count": null,
   "id": "031d0514-eeca-421e-a54b-712d5d50b6d4",
   "metadata": {},
   "outputs": [],
   "source": []
  },
  {
   "cell_type": "code",
   "execution_count": null,
   "id": "8cde84fa-b641-4919-b292-7469f9fa8050",
   "metadata": {},
   "outputs": [],
   "source": []
  },
  {
   "cell_type": "code",
   "execution_count": null,
   "id": "2c2373ac-768c-4692-a0a6-940dc4e7185e",
   "metadata": {},
   "outputs": [],
   "source": []
  },
  {
   "cell_type": "code",
   "execution_count": null,
   "id": "9df58762-6f8c-4e68-9a45-54b347c80819",
   "metadata": {},
   "outputs": [],
   "source": []
  },
  {
   "cell_type": "code",
   "execution_count": null,
   "id": "d7511040-882c-4644-9bb4-8ace78db398c",
   "metadata": {},
   "outputs": [],
   "source": []
  },
  {
   "cell_type": "code",
   "execution_count": null,
   "id": "c64f903b-2b04-4ab5-9998-2ca9914b0b3b",
   "metadata": {},
   "outputs": [],
   "source": []
  },
  {
   "cell_type": "code",
   "execution_count": null,
   "id": "fd0f9a21-fdc3-4d5a-99df-856c8e7935c1",
   "metadata": {},
   "outputs": [],
   "source": []
  },
  {
   "cell_type": "code",
   "execution_count": null,
   "id": "633f8c18-3361-40e1-aaf5-1c3544167fa5",
   "metadata": {},
   "outputs": [],
   "source": []
  },
  {
   "cell_type": "code",
   "execution_count": null,
   "id": "9e2b54f1-c177-4a0f-a685-600719dabd4b",
   "metadata": {},
   "outputs": [],
   "source": []
  },
  {
   "cell_type": "code",
   "execution_count": null,
   "id": "5e2f45c6-b191-40f2-8043-9980361bdf14",
   "metadata": {},
   "outputs": [],
   "source": []
  },
  {
   "cell_type": "code",
   "execution_count": null,
   "id": "bb4770e8-c384-4d34-a5c9-cf58f231048d",
   "metadata": {},
   "outputs": [],
   "source": []
  },
  {
   "cell_type": "code",
   "execution_count": null,
   "id": "5aa08daf-46ac-465e-974f-b15ae78280e8",
   "metadata": {},
   "outputs": [],
   "source": []
  },
  {
   "cell_type": "code",
   "execution_count": null,
   "id": "621bca5d-5312-49f9-9be9-8f861437f70f",
   "metadata": {},
   "outputs": [],
   "source": []
  },
  {
   "cell_type": "code",
   "execution_count": null,
   "id": "0051cbac-6f3a-4ffb-a39b-635d89d85c16",
   "metadata": {},
   "outputs": [],
   "source": []
  },
  {
   "cell_type": "code",
   "execution_count": null,
   "id": "6859ebd3-c30a-4572-8d6c-a455a8cc2959",
   "metadata": {},
   "outputs": [],
   "source": []
  },
  {
   "cell_type": "code",
   "execution_count": null,
   "id": "991db033-928d-4277-9e04-63e77d80a6f4",
   "metadata": {},
   "outputs": [],
   "source": []
  },
  {
   "cell_type": "code",
   "execution_count": null,
   "id": "4a02aca0-e53e-4465-a4a4-beaca2fb07de",
   "metadata": {},
   "outputs": [],
   "source": []
  },
  {
   "cell_type": "code",
   "execution_count": null,
   "id": "fa63e5ed-45e9-4012-9e4d-0a5a9de805ba",
   "metadata": {},
   "outputs": [],
   "source": []
  },
  {
   "cell_type": "code",
   "execution_count": null,
   "id": "e50e9548-4b0c-42b2-bfc2-c26bbb755c84",
   "metadata": {},
   "outputs": [],
   "source": []
  },
  {
   "cell_type": "code",
   "execution_count": null,
   "id": "08113561-b18d-4818-815b-5e9aaa885bce",
   "metadata": {},
   "outputs": [],
   "source": []
  },
  {
   "cell_type": "code",
   "execution_count": null,
   "id": "427e4c8b-ab13-4f9e-8d8a-e3284a261df8",
   "metadata": {},
   "outputs": [],
   "source": []
  },
  {
   "cell_type": "code",
   "execution_count": null,
   "id": "ef2d5f53-c843-4f53-91f3-8c3f1d19631c",
   "metadata": {},
   "outputs": [],
   "source": []
  },
  {
   "cell_type": "code",
   "execution_count": null,
   "id": "aef64d10-e09c-4b9a-b3bc-f922b58107fe",
   "metadata": {},
   "outputs": [],
   "source": []
  },
  {
   "cell_type": "code",
   "execution_count": null,
   "id": "e122f585-d526-4640-bfa6-ba8351bd0795",
   "metadata": {},
   "outputs": [],
   "source": []
  }
 ],
 "metadata": {
  "kernelspec": {
   "display_name": "Python 3 (ipykernel)",
   "language": "python",
   "name": "python3"
  },
  "language_info": {
   "codemirror_mode": {
    "name": "ipython",
    "version": 3
   },
   "file_extension": ".py",
   "mimetype": "text/x-python",
   "name": "python",
   "nbconvert_exporter": "python",
   "pygments_lexer": "ipython3",
   "version": "3.9.12"
  }
 },
 "nbformat": 4,
 "nbformat_minor": 5
}
