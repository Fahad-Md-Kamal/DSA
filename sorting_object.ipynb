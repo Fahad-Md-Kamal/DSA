{
 "cells": [
  {
   "cell_type": "code",
   "execution_count": 2,
   "id": "7344e1cc-f977-4f0c-93d8-4ae9cbee791f",
   "metadata": {},
   "outputs": [],
   "source": [
    "numbers = [10,9, 3, 50]"
   ]
  },
  {
   "cell_type": "code",
   "execution_count": 3,
   "id": "614e908c-4352-4856-9d01-03e590cec438",
   "metadata": {},
   "outputs": [],
   "source": [
    "sorted_numbers = sorted(numbers)\n"
   ]
  },
  {
   "cell_type": "code",
   "execution_count": 4,
   "id": "f242098c-61b2-4275-8344-681bed4d1ae0",
   "metadata": {},
   "outputs": [
    {
     "data": {
      "text/plain": [
       "[3, 9, 10, 50]"
      ]
     },
     "execution_count": 4,
     "metadata": {},
     "output_type": "execute_result"
    }
   ],
   "source": [
    "sorted_numbers"
   ]
  },
  {
   "cell_type": "code",
   "execution_count": 5,
   "id": "9864b460-c995-4a51-92ab-c7a05adc2e06",
   "metadata": {},
   "outputs": [
    {
     "name": "stdout",
     "output_type": "stream",
     "text": [
      "3\n",
      "9\n",
      "10\n",
      "50\n"
     ]
    }
   ],
   "source": [
    "for number in sorted_numbers:\n",
    "    print(number)"
   ]
  },
  {
   "cell_type": "code",
   "execution_count": 6,
   "id": "d7abcee9-9f1a-48a9-907d-201cb6d6540a",
   "metadata": {},
   "outputs": [],
   "source": [
    "class Language:\n",
    "    def __init__(self, name, lang_id):\n",
    "        self.lang_id = lang_id\n",
    "        self.name = name\n",
    "    \n",
    "    def __repr__(self):\n",
    "        return '{:2d}: {:s}'.format(self.lang_id, self.name)\n",
    "    "
   ]
  },
  {
   "cell_type": "code",
   "execution_count": 14,
   "id": "e5624b33-d37b-4d8a-a2ba-5e01dfb77040",
   "metadata": {},
   "outputs": [],
   "source": [
    "languages = [\n",
    "    Language('C#', 2),\n",
    "    Language('Python', 5),\n",
    "    Language('C++', 44),\n",
    "    Language('Java', 15)\n",
    "]"
   ]
  },
  {
   "cell_type": "code",
   "execution_count": 15,
   "id": "349aa376-31e1-4c27-a40d-a881c7c44cb1",
   "metadata": {},
   "outputs": [
    {
     "name": "stdout",
     "output_type": "stream",
     "text": [
      " 2: C#\n",
      " 5: Python\n",
      "44: C++\n",
      "15: Java\n"
     ]
    }
   ],
   "source": [
    "for lang in languages:\n",
    "    print(lang)"
   ]
  },
  {
   "cell_type": "code",
   "execution_count": 16,
   "id": "06cff93c-5aad-44a6-82a4-b4d49d1b6465",
   "metadata": {},
   "outputs": [],
   "source": [
    "from operator import attrgetter"
   ]
  },
  {
   "cell_type": "code",
   "execution_count": 19,
   "id": "78ce9949-08ab-4aa2-8a6c-23df6024493b",
   "metadata": {},
   "outputs": [],
   "source": [
    "sorted_languges = sorted(languages, key=attrgetter('lang_id'))"
   ]
  },
  {
   "cell_type": "code",
   "execution_count": 23,
   "id": "7a4b817a-3be0-4a66-91aa-6750ab80b7c2",
   "metadata": {},
   "outputs": [
    {
     "name": "stdout",
     "output_type": "stream",
     "text": [
      " 2: C#\n",
      "44: C++\n",
      "15: Java\n",
      " 5: Python\n"
     ]
    }
   ],
   "source": [
    "for lang in sorted_languges:\n",
    "    print(lang)"
   ]
  },
  {
   "cell_type": "code",
   "execution_count": 24,
   "id": "8dc3e679-d3f5-4d60-9457-aac78fb9a313",
   "metadata": {},
   "outputs": [],
   "source": [
    "sorted_languges = sorted(languages, key=attrgetter('name'))"
   ]
  },
  {
   "cell_type": "code",
   "execution_count": 25,
   "id": "654ad116-41f5-40e5-8160-558f8fccf1f7",
   "metadata": {},
   "outputs": [
    {
     "name": "stdout",
     "output_type": "stream",
     "text": [
      " 2: C#\n",
      "44: C++\n",
      "15: Java\n",
      " 5: Python\n"
     ]
    }
   ],
   "source": [
    "for lang in sorted_languges:\n",
    "    print(lang)"
   ]
  },
  {
   "cell_type": "code",
   "execution_count": null,
   "id": "21aaf219-a089-42ee-89e4-9bdfd35f450f",
   "metadata": {},
   "outputs": [],
   "source": []
  }
 ],
 "metadata": {
  "kernelspec": {
   "display_name": "Python 3 (ipykernel)",
   "language": "python",
   "name": "python3"
  },
  "language_info": {
   "codemirror_mode": {
    "name": "ipython",
    "version": 3
   },
   "file_extension": ".py",
   "mimetype": "text/x-python",
   "name": "python",
   "nbconvert_exporter": "python",
   "pygments_lexer": "ipython3",
   "version": "3.9.10"
  }
 },
 "nbformat": 4,
 "nbformat_minor": 5
}
