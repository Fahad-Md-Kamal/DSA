{
 "cells": [
  {
   "cell_type": "code",
   "execution_count": 1,
   "metadata": {},
   "outputs": [],
   "source": [
    "from collections import namedtuple"
   ]
  },
  {
   "cell_type": "code",
   "execution_count": 5,
   "metadata": {},
   "outputs": [],
   "source": [
    "Student = namedtuple('Student', 'Id, Name, Class, Marks')\n",
    "studentCount = int(input('Student Count'))\n",
    "stds_list = []\n",
    "for i in range(studentCount):\n",
    "    _id, _name, _class, _marks = input('Enter values as id, name, class, mark with space').split()\n",
    "    stds_list.append(Student(_id, _name,_class, _marks))"
   ]
  },
  {
   "cell_type": "code",
   "execution_count": null,
   "metadata": {},
   "outputs": [],
   "source": []
  },
  {
   "cell_type": "code",
   "execution_count": null,
   "metadata": {},
   "outputs": [],
   "source": []
  },
  {
   "cell_type": "code",
   "execution_count": 9,
   "metadata": {},
   "outputs": [
    {
     "data": {
      "text/plain": [
       "[Student(Id='1', Name='Calum', Class='2', Marks='92'),\n",
       " Student(Id='2', Name='Scott', Class='5', Marks='82'),\n",
       " Student(Id='3', Name='Jason', Class='2', Marks='94'),\n",
       " Student(Id='4', Name='Glenn', Class='8', Marks='55'),\n",
       " Student(Id='5', Name='Fergus', Class='2', Marks='82')]"
      ]
     },
     "execution_count": 9,
     "metadata": {},
     "output_type": "execute_result"
    }
   ],
   "source": [
    "stds_list"
   ]
  },
  {
   "cell_type": "code",
   "execution_count": 8,
   "metadata": {},
   "outputs": [
    {
     "ename": "TypeError",
     "evalue": "unsupported operand type(s) for /: 'str' and 'int'",
     "output_type": "error",
     "traceback": [
      "\u001b[0;31m---------------------------------------------------------------------------\u001b[0m",
      "\u001b[0;31mTypeError\u001b[0m                                 Traceback (most recent call last)",
      "\u001b[1;32m/Users/genex/Desktop/projects/jpy/hrank.ipynb Cell 6'\u001b[0m in \u001b[0;36m<cell line: 1>\u001b[0;34m()\u001b[0m\n\u001b[0;32m----> <a href='vscode-notebook-cell:/Users/genex/Desktop/projects/jpy/hrank.ipynb#ch0000002?line=0'>1</a>\u001b[0m \u001b[39m'\u001b[39;49m\u001b[39m%.2f\u001b[39;49;00m\u001b[39m'\u001b[39;49m \u001b[39m%\u001b[39;49m \u001b[39msum\u001b[39;49m(\u001b[39mint\u001b[39;49m(i\u001b[39m.\u001b[39;49mMarks) \u001b[39mfor\u001b[39;49;00m i \u001b[39min\u001b[39;49;00m stds_list)\u001b[39m/\u001b[39;49mstudentCount\n",
      "\u001b[0;31mTypeError\u001b[0m: unsupported operand type(s) for /: 'str' and 'int'"
     ]
    }
   ],
   "source": [
    "f'{sum(int(i.Marks) for i in stds_list)/studentCount}.2f'"
   ]
  },
  {
   "cell_type": "code",
   "execution_count": null,
   "metadata": {},
   "outputs": [],
   "source": []
  }
 ],
 "metadata": {
  "interpreter": {
   "hash": "75ec150d0de11a8ff7ab77754e250087f4c76b525fae592629b6e5ea642a4659"
  },
  "kernelspec": {
   "display_name": "Python 3.9.12 ('env': venv)",
   "language": "python",
   "name": "python3"
  },
  "language_info": {
   "codemirror_mode": {
    "name": "ipython",
    "version": 3
   },
   "file_extension": ".py",
   "mimetype": "text/x-python",
   "name": "python",
   "nbconvert_exporter": "python",
   "pygments_lexer": "ipython3",
   "version": "3.9.12"
  },
  "orig_nbformat": 4
 },
 "nbformat": 4,
 "nbformat_minor": 2
}
