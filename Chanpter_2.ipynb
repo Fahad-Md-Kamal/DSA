{
 "cells": [
  {
   "cell_type": "markdown",
   "id": "1220a974",
   "metadata": {},
   "source": [
    "# Character Strings"
   ]
  },
  {
   "cell_type": "markdown",
   "id": "6c28ebe0",
   "metadata": {},
   "source": [
    "### 2.1 Anagrams"
   ]
  },
  {
   "cell_type": "code",
   "execution_count": 25,
   "id": "c5a761b8",
   "metadata": {},
   "outputs": [
    {
     "data": {
      "text/plain": [
       "['a', 'a', 'd', 'f', 'h']"
      ]
     },
     "execution_count": 25,
     "metadata": {},
     "output_type": "execute_result"
    }
   ],
   "source": [
    "name"
   ]
  },
  {
   "cell_type": "code",
   "execution_count": 28,
   "id": "c271d078",
   "metadata": {},
   "outputs": [
    {
     "data": {
      "text/plain": [
       "2"
      ]
     },
     "execution_count": 28,
     "metadata": {},
     "output_type": "execute_result"
    }
   ],
   "source": [
    "name.count('a')"
   ]
  },
  {
   "cell_type": "code",
   "execution_count": 49,
   "id": "78065726",
   "metadata": {},
   "outputs": [],
   "source": [
    "def anagrams(sen):\n",
    "    \"\"\"\n",
    "    Returns all the word that has similar characters.\n",
    "    \n",
    "    - create dictionary to hold all the words.\n",
    "    - split the sentence into word's list.\n",
    "    - iterate over each words\n",
    "    - sort characacters and check if the sorted key is in the dictionary\n",
    "    - if it is in the dictionary than append the list with the current word\n",
    "    - else use sorted words as key and create a list with the word as value\n",
    "    \n",
    "    - Finally iterate each key of the dictinary\n",
    "    - if a key has more than 2 values and lenght and all the word are not same\n",
    "        - count with first element of the list and compare with lenght of the list\n",
    "    \n",
    "    \"\"\"\n",
    "    _dict = {}\n",
    "\n",
    "    for word in sen.split(\" \"):\n",
    "        _sorted = ''.join(sorted(word))\n",
    "        if _sorted in _dict:\n",
    "            _dict[_sorted].append(word)\n",
    "        else:\n",
    "            _dict[_sorted] = [word]\n",
    "    return [values for values in _dict.values() if len(values) > 1 and values.count(values[0]) != len(values)]\n",
    "            \n"
   ]
  },
  {
   "cell_type": "code",
   "execution_count": 48,
   "id": "b0433dfb",
   "metadata": {},
   "outputs": [
    {
     "data": {
      "text/plain": [
       "[['below', 'elbow', 'bowel'],\n",
       " ['car', 'arc'],\n",
       " ['thing', 'night'],\n",
       " ['act', 'cat']]"
      ]
     },
     "execution_count": 48,
     "metadata": {},
     "output_type": "execute_result"
    }
   ],
   "source": [
    "anagrams(\"\"\"below the car is a rat driking cider bending its elbow while this thing is an arc that can act like a cat which during the night caused by pain in its bowel\"\"\")"
   ]
  },
  {
   "cell_type": "code",
   "execution_count": null,
   "id": "4a599262",
   "metadata": {},
   "outputs": [],
   "source": []
  }
 ],
 "metadata": {
  "kernelspec": {
   "display_name": "Python 3 (ipykernel)",
   "language": "python",
   "name": "python3"
  },
  "language_info": {
   "codemirror_mode": {
    "name": "ipython",
    "version": 3
   },
   "file_extension": ".py",
   "mimetype": "text/x-python",
   "name": "python",
   "nbconvert_exporter": "python",
   "pygments_lexer": "ipython3",
   "version": "3.8.9"
  }
 },
 "nbformat": 4,
 "nbformat_minor": 5
}
