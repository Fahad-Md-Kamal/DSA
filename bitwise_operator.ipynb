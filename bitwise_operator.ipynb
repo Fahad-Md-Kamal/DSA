{
 "cells": [
  {
   "cell_type": "markdown",
   "id": "c46fcdfb-0068-40d3-9c1f-c1926a45094e",
   "metadata": {},
   "source": [
    "#### URI: https://www.youtube.com/watch?v=5J4rWJHwLSE&t=378s"
   ]
  },
  {
   "cell_type": "code",
   "execution_count": 7,
   "id": "97b0b6f6-37cd-42b9-a05f-b2a43bb24f24",
   "metadata": {},
   "outputs": [
    {
     "data": {
      "text/plain": [
       "1234"
      ]
     },
     "execution_count": 7,
     "metadata": {},
     "output_type": "execute_result"
    }
   ],
   "source": [
    "1234"
   ]
  },
  {
   "cell_type": "markdown",
   "id": "6d245974-d767-4c4d-8a26-74bc92b29700",
   "metadata": {},
   "source": [
    "### 4 ones, 3 thens, 2 hundreds & 1 thousands "
   ]
  },
  {
   "cell_type": "code",
   "execution_count": 8,
   "id": "fad69853-2db7-4599-a7e8-2558abd4f6ab",
   "metadata": {},
   "outputs": [
    {
     "data": {
      "text/plain": [
       "1234"
      ]
     },
     "execution_count": 8,
     "metadata": {},
     "output_type": "execute_result"
    }
   ],
   "source": [
    "4*1 + 3*10 + 2*100 + 1*1000"
   ]
  },
  {
   "cell_type": "code",
   "execution_count": 9,
   "id": "ad3da72a-2553-4ea9-a39c-6d084d78f44a",
   "metadata": {},
   "outputs": [
    {
     "data": {
      "text/plain": [
       "1234"
      ]
     },
     "execution_count": 9,
     "metadata": {},
     "output_type": "execute_result"
    }
   ],
   "source": [
    "4*10**0 + 3*10**1 + 2*10**2 + 1*10**3"
   ]
  },
  {
   "cell_type": "code",
   "execution_count": 10,
   "id": "9349642f-024e-49ec-8682-96ca76038628",
   "metadata": {},
   "outputs": [
    {
     "data": {
      "text/plain": [
       "13"
      ]
     },
     "execution_count": 10,
     "metadata": {},
     "output_type": "execute_result"
    }
   ],
   "source": [
    "0b1101"
   ]
  },
  {
   "cell_type": "code",
   "execution_count": 11,
   "id": "f0ee5ab8-5796-40c9-b7f9-1131649172e1",
   "metadata": {},
   "outputs": [
    {
     "data": {
      "text/plain": [
       "13"
      ]
     },
     "execution_count": 11,
     "metadata": {},
     "output_type": "execute_result"
    }
   ],
   "source": [
    "1*2**0 + 0*2**1 + 1*2**2 + 1*2**3"
   ]
  },
  {
   "cell_type": "code",
   "execution_count": 12,
   "id": "51b263e8-e82e-4413-953a-f2b322d6e234",
   "metadata": {},
   "outputs": [],
   "source": [
    "x = 0b11001011\n",
    "y = 0b10101101"
   ]
  },
  {
   "cell_type": "code",
   "execution_count": 13,
   "id": "d86d31c4-e927-4ce0-8e21-1bf1f5d74f33",
   "metadata": {},
   "outputs": [
    {
     "data": {
      "text/plain": [
       "203"
      ]
     },
     "execution_count": 13,
     "metadata": {},
     "output_type": "execute_result"
    }
   ],
   "source": [
    "x"
   ]
  },
  {
   "cell_type": "code",
   "execution_count": 14,
   "id": "c7aa3333-58d2-4337-8b2d-7d9daa0d0911",
   "metadata": {},
   "outputs": [
    {
     "data": {
      "text/plain": [
       "173"
      ]
     },
     "execution_count": 14,
     "metadata": {},
     "output_type": "execute_result"
    }
   ],
   "source": [
    "y"
   ]
  },
  {
   "cell_type": "code",
   "execution_count": 21,
   "id": "3950b544-0026-4ce8-8032-74c1037f22fa",
   "metadata": {},
   "outputs": [
    {
     "data": {
      "text/plain": [
       "137"
      ]
     },
     "execution_count": 21,
     "metadata": {},
     "output_type": "execute_result"
    }
   ],
   "source": [
    "# bitwise AND -- use &\n",
    "# If both of them is 1, then we get 1\n",
    "\n",
    "# x = 0b11001011\n",
    "# y = 0b10101101\n",
    "\n",
    "0b10001001"
   ]
  },
  {
   "cell_type": "code",
   "execution_count": 22,
   "id": "38aa262f-8a2d-4cd5-a52a-c44ee7a2dc6e",
   "metadata": {},
   "outputs": [
    {
     "data": {
      "text/plain": [
       "137"
      ]
     },
     "execution_count": 22,
     "metadata": {},
     "output_type": "execute_result"
    }
   ],
   "source": [
    "x&y"
   ]
  },
  {
   "cell_type": "code",
   "execution_count": 23,
   "id": "4399ad47-3dde-4383-991f-d062295a1746",
   "metadata": {},
   "outputs": [
    {
     "data": {
      "text/plain": [
       "239"
      ]
     },
     "execution_count": 23,
     "metadata": {},
     "output_type": "execute_result"
    }
   ],
   "source": [
    "# bitwise OR -- use |\n",
    "# if one of them is 1, then we get 1\n",
    "\n",
    "# x = 0b11001011\n",
    "# y = 0b10101101\n",
    "\n",
    "0b11101111"
   ]
  },
  {
   "cell_type": "code",
   "execution_count": 24,
   "id": "24f2283c-f32a-499b-8041-0a4877212d30",
   "metadata": {},
   "outputs": [
    {
     "data": {
      "text/plain": [
       "239"
      ]
     },
     "execution_count": 24,
     "metadata": {},
     "output_type": "execute_result"
    }
   ],
   "source": [
    "x|y"
   ]
  },
  {
   "cell_type": "code",
   "execution_count": 25,
   "id": "1f05d4f4-2ed3-4df2-92ca-43daaa2eb5b2",
   "metadata": {},
   "outputs": [
    {
     "data": {
      "text/plain": [
       "102"
      ]
     },
     "execution_count": 25,
     "metadata": {},
     "output_type": "execute_result"
    }
   ],
   "source": [
    "# bitwise XOR -- use ^\n",
    "# if one of them is 1 (but not both), then we get 1\n",
    "\n",
    "# x = 0b11001011\n",
    "# y = 0b10101101\n",
    "\n",
    "0b01100110"
   ]
  },
  {
   "cell_type": "code",
   "execution_count": 26,
   "id": "69b551cf-9f7c-4da0-98ca-f71a863eafbc",
   "metadata": {},
   "outputs": [
    {
     "data": {
      "text/plain": [
       "102"
      ]
     },
     "execution_count": 26,
     "metadata": {},
     "output_type": "execute_result"
    }
   ],
   "source": [
    "x^y"
   ]
  },
  {
   "cell_type": "code",
   "execution_count": 27,
   "id": "1a3b34ec-3826-45bc-ba69-4abd7ac69bb0",
   "metadata": {},
   "outputs": [],
   "source": [
    "first_choice = True\n",
    "second_choice = False\n",
    "third_choice = True"
   ]
  },
  {
   "cell_type": "code",
   "execution_count": 34,
   "id": "7f9a9f15-3920-426e-8d71-25fc549bd559",
   "metadata": {},
   "outputs": [],
   "source": [
    "choices = 0b101"
   ]
  },
  {
   "cell_type": "code",
   "execution_count": 35,
   "id": "5abd16c3-c385-4239-834a-540cbd7bad57",
   "metadata": {},
   "outputs": [
    {
     "data": {
      "text/plain": [
       "5"
      ]
     },
     "execution_count": 35,
     "metadata": {},
     "output_type": "execute_result"
    }
   ],
   "source": [
    "choices"
   ]
  },
  {
   "cell_type": "code",
   "execution_count": 36,
   "id": "3e01de2b-f641-4931-8532-90a47ce12163",
   "metadata": {},
   "outputs": [
    {
     "data": {
      "text/plain": [
       "4"
      ]
     },
     "execution_count": 36,
     "metadata": {},
     "output_type": "execute_result"
    }
   ],
   "source": [
    "choices & 0b100 # mask -- only let the first_choice bit through, if it's there at all"
   ]
  },
  {
   "cell_type": "code",
   "execution_count": 37,
   "id": "552d4625-983b-4d6e-9735-4765ab72ae60",
   "metadata": {},
   "outputs": [
    {
     "data": {
      "text/plain": [
       "0"
      ]
     },
     "execution_count": 37,
     "metadata": {},
     "output_type": "execute_result"
    }
   ],
   "source": [
    "choices & 0b010 # is second_choice set? 2 if so, 0 if not"
   ]
  },
  {
   "cell_type": "code",
   "execution_count": 38,
   "id": "9c6504bc-9233-4e77-9aa0-e40a039a22eb",
   "metadata": {},
   "outputs": [
    {
     "data": {
      "text/plain": [
       "1"
      ]
     },
     "execution_count": 38,
     "metadata": {},
     "output_type": "execute_result"
    }
   ],
   "source": [
    "choices & 0b001 # is third_choice set? 1 if so, 0 if not"
   ]
  },
  {
   "cell_type": "code",
   "execution_count": 39,
   "id": "621d062a-46ff-437a-b052-59465add811f",
   "metadata": {},
   "outputs": [],
   "source": [
    "def foo():\n",
    "    print('Hello')"
   ]
  },
  {
   "cell_type": "code",
   "execution_count": 40,
   "id": "23280802-f95d-4b6c-809e-b87ad808d5fb",
   "metadata": {},
   "outputs": [
    {
     "data": {
      "text/plain": [
       "'0b1000011'"
      ]
     },
     "execution_count": 40,
     "metadata": {},
     "output_type": "execute_result"
    }
   ],
   "source": [
    "bin(foo.__code__.co_flags)"
   ]
  },
  {
   "cell_type": "code",
   "execution_count": 41,
   "id": "23469c9f-8cc1-4fed-91cc-8bca3c36d735",
   "metadata": {},
   "outputs": [
    {
     "data": {
      "text/plain": [
       "203"
      ]
     },
     "execution_count": 41,
     "metadata": {},
     "output_type": "execute_result"
    }
   ],
   "source": [
    "x"
   ]
  },
  {
   "cell_type": "code",
   "execution_count": 42,
   "id": "ff93a071-e7ee-4543-b5aa-9426c36e7f3f",
   "metadata": {},
   "outputs": [
    {
     "data": {
      "text/plain": [
       "'0b11001011'"
      ]
     },
     "execution_count": 42,
     "metadata": {},
     "output_type": "execute_result"
    }
   ],
   "source": [
    "bin(x)"
   ]
  },
  {
   "cell_type": "code",
   "execution_count": 43,
   "id": "e6b9d91c-d7cd-4111-9d17-374915c938f8",
   "metadata": {},
   "outputs": [
    {
     "data": {
      "text/plain": [
       "-204"
      ]
     },
     "execution_count": 43,
     "metadata": {},
     "output_type": "execute_result"
    }
   ],
   "source": [
    "# bitwise NOT is (we think) - (tilde)\n",
    "\n",
    "~x"
   ]
  },
  {
   "cell_type": "code",
   "execution_count": 45,
   "id": "9f1fa254-2fee-4bee-8406-9d20c0351dab",
   "metadata": {},
   "outputs": [
    {
     "data": {
      "text/plain": [
       "-1235"
      ]
     },
     "execution_count": 45,
     "metadata": {},
     "output_type": "execute_result"
    }
   ],
   "source": [
    "~1234"
   ]
  },
  {
   "cell_type": "code",
   "execution_count": 46,
   "id": "440dfbc5-b9f4-45c9-bf90-9d63a20c4684",
   "metadata": {},
   "outputs": [
    {
     "data": {
      "text/plain": [
       "1233"
      ]
     },
     "execution_count": 46,
     "metadata": {},
     "output_type": "execute_result"
    }
   ],
   "source": [
    "~-1234"
   ]
  },
  {
   "cell_type": "code",
   "execution_count": 47,
   "id": "635b71a6-aa78-4110-a3fe-a4b222549d77",
   "metadata": {},
   "outputs": [
    {
     "data": {
      "text/plain": [
       "203"
      ]
     },
     "execution_count": 47,
     "metadata": {},
     "output_type": "execute_result"
    }
   ],
   "source": [
    "x"
   ]
  },
  {
   "cell_type": "code",
   "execution_count": 49,
   "id": "a3930e54-34c0-406d-94bd-0c040fa36c80",
   "metadata": {},
   "outputs": [
    {
     "data": {
      "text/plain": [
       "406"
      ]
     },
     "execution_count": 49,
     "metadata": {},
     "output_type": "execute_result"
    }
   ],
   "source": [
    "x << 1"
   ]
  },
  {
   "cell_type": "code",
   "execution_count": 50,
   "id": "908cefcc-d61a-4b12-bef5-b6ca5ad442ff",
   "metadata": {},
   "outputs": [
    {
     "data": {
      "text/plain": [
       "'0b110010110'"
      ]
     },
     "execution_count": 50,
     "metadata": {},
     "output_type": "execute_result"
    }
   ],
   "source": [
    "bin(406)"
   ]
  },
  {
   "cell_type": "code",
   "execution_count": 51,
   "id": "39a9ec41-983f-4d7a-b80f-0ee4929f8da8",
   "metadata": {},
   "outputs": [
    {
     "data": {
      "text/plain": [
       "'0b11001011'"
      ]
     },
     "execution_count": 51,
     "metadata": {},
     "output_type": "execute_result"
    }
   ],
   "source": [
    "bin(x)"
   ]
  },
  {
   "cell_type": "code",
   "execution_count": 52,
   "id": "e6b3da26-2c6a-40b1-9908-765f94ca4681",
   "metadata": {},
   "outputs": [
    {
     "data": {
      "text/plain": [
       "406"
      ]
     },
     "execution_count": 52,
     "metadata": {},
     "output_type": "execute_result"
    }
   ],
   "source": [
    "0b110010110"
   ]
  },
  {
   "cell_type": "code",
   "execution_count": 55,
   "id": "39befb21-850e-40c0-8df1-678bcdc8bd28",
   "metadata": {},
   "outputs": [
    {
     "data": {
      "text/plain": [
       "3248"
      ]
     },
     "execution_count": 55,
     "metadata": {},
     "output_type": "execute_result"
    }
   ],
   "source": [
    "x << 4\n",
    "# This means add four zeros to the end e.g. 0b110010110000"
   ]
  },
  {
   "cell_type": "code",
   "execution_count": 56,
   "id": "1829f3fd-754a-4d31-98c9-26f2fcbc431f",
   "metadata": {},
   "outputs": [
    {
     "data": {
      "text/plain": [
       "'0b110010110000'"
      ]
     },
     "execution_count": 56,
     "metadata": {},
     "output_type": "execute_result"
    }
   ],
   "source": [
    "bin(3248)"
   ]
  },
  {
   "cell_type": "code",
   "execution_count": 57,
   "id": "93a65e1c-9b7e-485e-b401-552a2c04b757",
   "metadata": {},
   "outputs": [
    {
     "data": {
      "text/plain": [
       "50"
      ]
     },
     "execution_count": 57,
     "metadata": {},
     "output_type": "execute_result"
    }
   ],
   "source": [
    "x >> 2"
   ]
  },
  {
   "cell_type": "code",
   "execution_count": 58,
   "id": "3438aa16-35a7-4282-80b7-01455da18edf",
   "metadata": {},
   "outputs": [
    {
     "data": {
      "text/plain": [
       "203"
      ]
     },
     "execution_count": 58,
     "metadata": {},
     "output_type": "execute_result"
    }
   ],
   "source": [
    "x"
   ]
  },
  {
   "cell_type": "code",
   "execution_count": 59,
   "id": "da94373d-2b58-402c-b2e8-fd79beea1260",
   "metadata": {},
   "outputs": [
    {
     "data": {
      "text/plain": [
       "'0b11001011'"
      ]
     },
     "execution_count": 59,
     "metadata": {},
     "output_type": "execute_result"
    }
   ],
   "source": [
    "bin(x)"
   ]
  },
  {
   "cell_type": "code",
   "execution_count": 61,
   "id": "3320178b-1f2a-4958-aea1-7817a85055ab",
   "metadata": {},
   "outputs": [
    {
     "data": {
      "text/plain": [
       "50"
      ]
     },
     "execution_count": 61,
     "metadata": {},
     "output_type": "execute_result"
    }
   ],
   "source": [
    "# x >> 2 means remove bottom two bits of the binary 0b110010->11\n",
    "0b110010"
   ]
  },
  {
   "cell_type": "code",
   "execution_count": null,
   "id": "836fd0d2-c2b4-45d0-8180-2031d8157852",
   "metadata": {},
   "outputs": [],
   "source": []
  }
 ],
 "metadata": {
  "kernelspec": {
   "display_name": "Python 3 (ipykernel)",
   "language": "python",
   "name": "python3"
  },
  "language_info": {
   "codemirror_mode": {
    "name": "ipython",
    "version": 3
   },
   "file_extension": ".py",
   "mimetype": "text/x-python",
   "name": "python",
   "nbconvert_exporter": "python",
   "pygments_lexer": "ipython3",
   "version": "3.9.12"
  }
 },
 "nbformat": 4,
 "nbformat_minor": 5
}
